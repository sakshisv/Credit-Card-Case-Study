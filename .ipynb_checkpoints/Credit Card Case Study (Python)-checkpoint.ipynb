{
 "cells": [
  {
   "cell_type": "markdown",
   "id": "29031672",
   "metadata": {},
   "source": [
    "## DATA EXPLORATORY ANALYSIS FOR CREDIT CARD"
   ]
  },
  {
   "cell_type": "markdown",
   "id": "fe6c729e",
   "metadata": {},
   "source": [
    "### Business Problem:\n",
    "\n",
    "In order to effectively produce quality decisions in the modern credit card industry, knowledge \n",
    "must be gained through effective data analysis and modeling. Through the use of dynamic data-driven decision-making tools and procedures, information can be gathered to successfully evaluate \n",
    "all aspects of credit card operations. PSPD Bank has banking operations in more than 50 countries \n",
    "across the globe. Mr. Jim Watson, CEO, wants to evaluate areas of bankruptcy, fraud, and \n",
    "collections, respond to customer requests for help with proactive offers and service.\n",
    "\n",
    "Following are some of questions to understand the customer spend and repayment behaviour."
   ]
  },
  {
   "cell_type": "markdown",
   "id": "82adcbf1",
   "metadata": {},
   "source": [
    "### Import necessary libraries"
   ]
  },
  {
   "cell_type": "code",
   "execution_count": 118,
   "id": "2f62d9a4",
   "metadata": {},
   "outputs": [],
   "source": [
    "import pandas as pd\n",
    "import numpy as np\n",
    "import matplotlib.pyplot as plt"
   ]
  },
  {
   "cell_type": "markdown",
   "id": "5176cf7f",
   "metadata": {},
   "source": [
    "### Import the data sets"
   ]
  },
  {
   "cell_type": "code",
   "execution_count": 2,
   "id": "65804e22",
   "metadata": {},
   "outputs": [],
   "source": [
    "customer = pd.read_csv('Customer Acqusition.csv')\n",
    "spend = pd.read_csv('spend.csv')\n",
    "repayment = pd.read_csv('Repayment.csv')"
   ]
  },
  {
   "cell_type": "code",
   "execution_count": 3,
   "id": "7c49041f",
   "metadata": {},
   "outputs": [
    {
     "data": {
      "text/html": [
       "<div>\n",
       "<style scoped>\n",
       "    .dataframe tbody tr th:only-of-type {\n",
       "        vertical-align: middle;\n",
       "    }\n",
       "\n",
       "    .dataframe tbody tr th {\n",
       "        vertical-align: top;\n",
       "    }\n",
       "\n",
       "    .dataframe thead th {\n",
       "        text-align: right;\n",
       "    }\n",
       "</style>\n",
       "<table border=\"1\" class=\"dataframe\">\n",
       "  <thead>\n",
       "    <tr style=\"text-align: right;\">\n",
       "      <th></th>\n",
       "      <th>No</th>\n",
       "      <th>Customer</th>\n",
       "      <th>Age</th>\n",
       "      <th>City</th>\n",
       "      <th>Product</th>\n",
       "      <th>Limit</th>\n",
       "      <th>Company</th>\n",
       "      <th>Segment</th>\n",
       "    </tr>\n",
       "  </thead>\n",
       "  <tbody>\n",
       "    <tr>\n",
       "      <th>0</th>\n",
       "      <td>1</td>\n",
       "      <td>A1</td>\n",
       "      <td>76</td>\n",
       "      <td>BANGALORE</td>\n",
       "      <td>Gold</td>\n",
       "      <td>500000.0</td>\n",
       "      <td>C1</td>\n",
       "      <td>Self Employed</td>\n",
       "    </tr>\n",
       "    <tr>\n",
       "      <th>1</th>\n",
       "      <td>2</td>\n",
       "      <td>A2</td>\n",
       "      <td>71</td>\n",
       "      <td>CALCUTTA</td>\n",
       "      <td>Silver</td>\n",
       "      <td>100000.0</td>\n",
       "      <td>C2</td>\n",
       "      <td>Salaried_MNC</td>\n",
       "    </tr>\n",
       "    <tr>\n",
       "      <th>2</th>\n",
       "      <td>3</td>\n",
       "      <td>A3</td>\n",
       "      <td>34</td>\n",
       "      <td>COCHIN</td>\n",
       "      <td>Platimum</td>\n",
       "      <td>10000.0</td>\n",
       "      <td>C3</td>\n",
       "      <td>Salaried_Pvt</td>\n",
       "    </tr>\n",
       "    <tr>\n",
       "      <th>3</th>\n",
       "      <td>4</td>\n",
       "      <td>A4</td>\n",
       "      <td>47</td>\n",
       "      <td>BOMBAY</td>\n",
       "      <td>Platimum</td>\n",
       "      <td>10001.0</td>\n",
       "      <td>C4</td>\n",
       "      <td>Govt</td>\n",
       "    </tr>\n",
       "    <tr>\n",
       "      <th>4</th>\n",
       "      <td>5</td>\n",
       "      <td>A5</td>\n",
       "      <td>56</td>\n",
       "      <td>BANGALORE</td>\n",
       "      <td>Platimum</td>\n",
       "      <td>10002.0</td>\n",
       "      <td>C5</td>\n",
       "      <td>Normal Salary</td>\n",
       "    </tr>\n",
       "  </tbody>\n",
       "</table>\n",
       "</div>"
      ],
      "text/plain": [
       "   No Customer  Age       City   Product     Limit Company        Segment\n",
       "0   1       A1   76  BANGALORE      Gold  500000.0      C1  Self Employed\n",
       "1   2       A2   71   CALCUTTA    Silver  100000.0      C2   Salaried_MNC\n",
       "2   3       A3   34     COCHIN  Platimum   10000.0      C3   Salaried_Pvt\n",
       "3   4       A4   47     BOMBAY  Platimum   10001.0      C4           Govt\n",
       "4   5       A5   56  BANGALORE  Platimum   10002.0      C5  Normal Salary"
      ]
     },
     "execution_count": 3,
     "metadata": {},
     "output_type": "execute_result"
    }
   ],
   "source": [
    "customer.head()"
   ]
  },
  {
   "cell_type": "code",
   "execution_count": 4,
   "id": "237b35f4",
   "metadata": {},
   "outputs": [
    {
     "data": {
      "text/html": [
       "<div>\n",
       "<style scoped>\n",
       "    .dataframe tbody tr th:only-of-type {\n",
       "        vertical-align: middle;\n",
       "    }\n",
       "\n",
       "    .dataframe tbody tr th {\n",
       "        vertical-align: top;\n",
       "    }\n",
       "\n",
       "    .dataframe thead th {\n",
       "        text-align: right;\n",
       "    }\n",
       "</style>\n",
       "<table border=\"1\" class=\"dataframe\">\n",
       "  <thead>\n",
       "    <tr style=\"text-align: right;\">\n",
       "      <th></th>\n",
       "      <th>Sl No:</th>\n",
       "      <th>Customer</th>\n",
       "      <th>Month</th>\n",
       "      <th>Type</th>\n",
       "      <th>Amount</th>\n",
       "    </tr>\n",
       "  </thead>\n",
       "  <tbody>\n",
       "    <tr>\n",
       "      <th>0</th>\n",
       "      <td>1</td>\n",
       "      <td>A1</td>\n",
       "      <td>12-Jan-04</td>\n",
       "      <td>JEWELLERY</td>\n",
       "      <td>485470.80</td>\n",
       "    </tr>\n",
       "    <tr>\n",
       "      <th>1</th>\n",
       "      <td>2</td>\n",
       "      <td>A1</td>\n",
       "      <td>3-Jan-04</td>\n",
       "      <td>PETRO</td>\n",
       "      <td>410556.13</td>\n",
       "    </tr>\n",
       "    <tr>\n",
       "      <th>2</th>\n",
       "      <td>3</td>\n",
       "      <td>A1</td>\n",
       "      <td>15-Jan-04</td>\n",
       "      <td>CLOTHES</td>\n",
       "      <td>23740.46</td>\n",
       "    </tr>\n",
       "    <tr>\n",
       "      <th>3</th>\n",
       "      <td>4</td>\n",
       "      <td>A1</td>\n",
       "      <td>25-Jan-04</td>\n",
       "      <td>FOOD</td>\n",
       "      <td>484342.47</td>\n",
       "    </tr>\n",
       "    <tr>\n",
       "      <th>4</th>\n",
       "      <td>5</td>\n",
       "      <td>A1</td>\n",
       "      <td>17-Jan-05</td>\n",
       "      <td>CAMERA</td>\n",
       "      <td>369694.07</td>\n",
       "    </tr>\n",
       "  </tbody>\n",
       "</table>\n",
       "</div>"
      ],
      "text/plain": [
       "   Sl No: Customer      Month       Type     Amount\n",
       "0       1       A1  12-Jan-04  JEWELLERY  485470.80\n",
       "1       2       A1   3-Jan-04      PETRO  410556.13\n",
       "2       3       A1  15-Jan-04    CLOTHES   23740.46\n",
       "3       4       A1  25-Jan-04       FOOD  484342.47\n",
       "4       5       A1  17-Jan-05     CAMERA  369694.07"
      ]
     },
     "execution_count": 4,
     "metadata": {},
     "output_type": "execute_result"
    }
   ],
   "source": [
    "spend.head()"
   ]
  },
  {
   "cell_type": "code",
   "execution_count": 5,
   "id": "a2bd4482",
   "metadata": {},
   "outputs": [
    {
     "data": {
      "text/html": [
       "<div>\n",
       "<style scoped>\n",
       "    .dataframe tbody tr th:only-of-type {\n",
       "        vertical-align: middle;\n",
       "    }\n",
       "\n",
       "    .dataframe tbody tr th {\n",
       "        vertical-align: top;\n",
       "    }\n",
       "\n",
       "    .dataframe thead th {\n",
       "        text-align: right;\n",
       "    }\n",
       "</style>\n",
       "<table border=\"1\" class=\"dataframe\">\n",
       "  <thead>\n",
       "    <tr style=\"text-align: right;\">\n",
       "      <th></th>\n",
       "      <th>SL No:</th>\n",
       "      <th>Customer</th>\n",
       "      <th>Month</th>\n",
       "      <th>Amount</th>\n",
       "      <th>Unnamed: 4</th>\n",
       "    </tr>\n",
       "  </thead>\n",
       "  <tbody>\n",
       "    <tr>\n",
       "      <th>0</th>\n",
       "      <td>NaN</td>\n",
       "      <td>A1</td>\n",
       "      <td>12-Jan-04</td>\n",
       "      <td>495414.75</td>\n",
       "      <td>NaN</td>\n",
       "    </tr>\n",
       "    <tr>\n",
       "      <th>1</th>\n",
       "      <td>2.0</td>\n",
       "      <td>A1</td>\n",
       "      <td>3-Jan-04</td>\n",
       "      <td>245899.02</td>\n",
       "      <td>NaN</td>\n",
       "    </tr>\n",
       "    <tr>\n",
       "      <th>2</th>\n",
       "      <td>3.0</td>\n",
       "      <td>A1</td>\n",
       "      <td>15-Jan-04</td>\n",
       "      <td>259490.06</td>\n",
       "      <td>NaN</td>\n",
       "    </tr>\n",
       "    <tr>\n",
       "      <th>3</th>\n",
       "      <td>4.0</td>\n",
       "      <td>A1</td>\n",
       "      <td>25-Jan-04</td>\n",
       "      <td>437555.12</td>\n",
       "      <td>NaN</td>\n",
       "    </tr>\n",
       "    <tr>\n",
       "      <th>4</th>\n",
       "      <td>5.0</td>\n",
       "      <td>A1</td>\n",
       "      <td>17-Jan-05</td>\n",
       "      <td>165972.88</td>\n",
       "      <td>NaN</td>\n",
       "    </tr>\n",
       "  </tbody>\n",
       "</table>\n",
       "</div>"
      ],
      "text/plain": [
       "   SL No: Customer      Month     Amount  Unnamed: 4\n",
       "0     NaN       A1  12-Jan-04  495414.75         NaN\n",
       "1     2.0       A1   3-Jan-04  245899.02         NaN\n",
       "2     3.0       A1  15-Jan-04  259490.06         NaN\n",
       "3     4.0       A1  25-Jan-04  437555.12         NaN\n",
       "4     5.0       A1  17-Jan-05  165972.88         NaN"
      ]
     },
     "execution_count": 5,
     "metadata": {},
     "output_type": "execute_result"
    }
   ],
   "source": [
    "repayment.head()"
   ]
  },
  {
   "cell_type": "markdown",
   "id": "882737bd",
   "metadata": {},
   "source": [
    "### Exploratory Data Analysis"
   ]
  },
  {
   "cell_type": "code",
   "execution_count": 6,
   "id": "9351b28e",
   "metadata": {},
   "outputs": [
    {
     "name": "stdout",
     "output_type": "stream",
     "text": [
      "(100, 8)\n",
      "(1500, 5)\n",
      "(1523, 5)\n"
     ]
    }
   ],
   "source": [
    "print(customer.shape)\n",
    "print(spend.shape)\n",
    "print(repayment.shape)"
   ]
  },
  {
   "cell_type": "code",
   "execution_count": 7,
   "id": "0f40721d",
   "metadata": {},
   "outputs": [
    {
     "data": {
      "text/html": [
       "<div>\n",
       "<style scoped>\n",
       "    .dataframe tbody tr th:only-of-type {\n",
       "        vertical-align: middle;\n",
       "    }\n",
       "\n",
       "    .dataframe tbody tr th {\n",
       "        vertical-align: top;\n",
       "    }\n",
       "\n",
       "    .dataframe thead th {\n",
       "        text-align: right;\n",
       "    }\n",
       "</style>\n",
       "<table border=\"1\" class=\"dataframe\">\n",
       "  <thead>\n",
       "    <tr style=\"text-align: right;\">\n",
       "      <th></th>\n",
       "      <th>Customer</th>\n",
       "      <th>Age</th>\n",
       "      <th>City</th>\n",
       "      <th>Product</th>\n",
       "      <th>Limit</th>\n",
       "      <th>Company</th>\n",
       "      <th>Segment</th>\n",
       "    </tr>\n",
       "  </thead>\n",
       "  <tbody>\n",
       "    <tr>\n",
       "      <th>0</th>\n",
       "      <td>A1</td>\n",
       "      <td>76</td>\n",
       "      <td>BANGALORE</td>\n",
       "      <td>Gold</td>\n",
       "      <td>500000.0</td>\n",
       "      <td>C1</td>\n",
       "      <td>Self Employed</td>\n",
       "    </tr>\n",
       "    <tr>\n",
       "      <th>1</th>\n",
       "      <td>A2</td>\n",
       "      <td>71</td>\n",
       "      <td>CALCUTTA</td>\n",
       "      <td>Silver</td>\n",
       "      <td>100000.0</td>\n",
       "      <td>C2</td>\n",
       "      <td>Salaried_MNC</td>\n",
       "    </tr>\n",
       "    <tr>\n",
       "      <th>2</th>\n",
       "      <td>A3</td>\n",
       "      <td>34</td>\n",
       "      <td>COCHIN</td>\n",
       "      <td>Platimum</td>\n",
       "      <td>10000.0</td>\n",
       "      <td>C3</td>\n",
       "      <td>Salaried_Pvt</td>\n",
       "    </tr>\n",
       "    <tr>\n",
       "      <th>3</th>\n",
       "      <td>A4</td>\n",
       "      <td>47</td>\n",
       "      <td>BOMBAY</td>\n",
       "      <td>Platimum</td>\n",
       "      <td>10001.0</td>\n",
       "      <td>C4</td>\n",
       "      <td>Govt</td>\n",
       "    </tr>\n",
       "    <tr>\n",
       "      <th>4</th>\n",
       "      <td>A5</td>\n",
       "      <td>56</td>\n",
       "      <td>BANGALORE</td>\n",
       "      <td>Platimum</td>\n",
       "      <td>10002.0</td>\n",
       "      <td>C5</td>\n",
       "      <td>Normal Salary</td>\n",
       "    </tr>\n",
       "  </tbody>\n",
       "</table>\n",
       "</div>"
      ],
      "text/plain": [
       "  Customer  Age       City   Product     Limit Company        Segment\n",
       "0       A1   76  BANGALORE      Gold  500000.0      C1  Self Employed\n",
       "1       A2   71   CALCUTTA    Silver  100000.0      C2   Salaried_MNC\n",
       "2       A3   34     COCHIN  Platimum   10000.0      C3   Salaried_Pvt\n",
       "3       A4   47     BOMBAY  Platimum   10001.0      C4           Govt\n",
       "4       A5   56  BANGALORE  Platimum   10002.0      C5  Normal Salary"
      ]
     },
     "execution_count": 7,
     "metadata": {},
     "output_type": "execute_result"
    }
   ],
   "source": [
    "# Drop the column \"No\" from customer data\n",
    "\n",
    "customer.drop('No', axis = 1, inplace = True)\n",
    "customer.head()"
   ]
  },
  {
   "cell_type": "code",
   "execution_count": 8,
   "id": "60e0774e",
   "metadata": {},
   "outputs": [
    {
     "data": {
      "text/html": [
       "<div>\n",
       "<style scoped>\n",
       "    .dataframe tbody tr th:only-of-type {\n",
       "        vertical-align: middle;\n",
       "    }\n",
       "\n",
       "    .dataframe tbody tr th {\n",
       "        vertical-align: top;\n",
       "    }\n",
       "\n",
       "    .dataframe thead th {\n",
       "        text-align: right;\n",
       "    }\n",
       "</style>\n",
       "<table border=\"1\" class=\"dataframe\">\n",
       "  <thead>\n",
       "    <tr style=\"text-align: right;\">\n",
       "      <th></th>\n",
       "      <th>Customer</th>\n",
       "      <th>Month</th>\n",
       "      <th>Type</th>\n",
       "      <th>Amount</th>\n",
       "    </tr>\n",
       "  </thead>\n",
       "  <tbody>\n",
       "    <tr>\n",
       "      <th>0</th>\n",
       "      <td>A1</td>\n",
       "      <td>2004-01-12</td>\n",
       "      <td>JEWELLERY</td>\n",
       "      <td>485470.80</td>\n",
       "    </tr>\n",
       "    <tr>\n",
       "      <th>1</th>\n",
       "      <td>A1</td>\n",
       "      <td>2004-01-03</td>\n",
       "      <td>PETRO</td>\n",
       "      <td>410556.13</td>\n",
       "    </tr>\n",
       "    <tr>\n",
       "      <th>2</th>\n",
       "      <td>A1</td>\n",
       "      <td>2004-01-15</td>\n",
       "      <td>CLOTHES</td>\n",
       "      <td>23740.46</td>\n",
       "    </tr>\n",
       "    <tr>\n",
       "      <th>3</th>\n",
       "      <td>A1</td>\n",
       "      <td>2004-01-25</td>\n",
       "      <td>FOOD</td>\n",
       "      <td>484342.47</td>\n",
       "    </tr>\n",
       "    <tr>\n",
       "      <th>4</th>\n",
       "      <td>A1</td>\n",
       "      <td>2005-01-17</td>\n",
       "      <td>CAMERA</td>\n",
       "      <td>369694.07</td>\n",
       "    </tr>\n",
       "  </tbody>\n",
       "</table>\n",
       "</div>"
      ],
      "text/plain": [
       "  Customer      Month       Type     Amount\n",
       "0       A1 2004-01-12  JEWELLERY  485470.80\n",
       "1       A1 2004-01-03      PETRO  410556.13\n",
       "2       A1 2004-01-15    CLOTHES   23740.46\n",
       "3       A1 2004-01-25       FOOD  484342.47\n",
       "4       A1 2005-01-17     CAMERA  369694.07"
      ]
     },
     "execution_count": 8,
     "metadata": {},
     "output_type": "execute_result"
    }
   ],
   "source": [
    "# Drop the column \"Sl No:\" from spend data\n",
    "\n",
    "spend.drop('Sl No:', axis = 1, inplace = True)\n",
    "spend['Month'] = pd.to_datetime(spend['Month'], format = '%d-%b-%y')\n",
    "spend.head()"
   ]
  },
  {
   "cell_type": "code",
   "execution_count": 9,
   "id": "48fc622d",
   "metadata": {},
   "outputs": [
    {
     "data": {
      "text/html": [
       "<div>\n",
       "<style scoped>\n",
       "    .dataframe tbody tr th:only-of-type {\n",
       "        vertical-align: middle;\n",
       "    }\n",
       "\n",
       "    .dataframe tbody tr th {\n",
       "        vertical-align: top;\n",
       "    }\n",
       "\n",
       "    .dataframe thead th {\n",
       "        text-align: right;\n",
       "    }\n",
       "</style>\n",
       "<table border=\"1\" class=\"dataframe\">\n",
       "  <thead>\n",
       "    <tr style=\"text-align: right;\">\n",
       "      <th></th>\n",
       "      <th>Customer</th>\n",
       "      <th>Month</th>\n",
       "      <th>Amount</th>\n",
       "    </tr>\n",
       "  </thead>\n",
       "  <tbody>\n",
       "    <tr>\n",
       "      <th>0</th>\n",
       "      <td>A1</td>\n",
       "      <td>2004-01-12</td>\n",
       "      <td>495414.75</td>\n",
       "    </tr>\n",
       "    <tr>\n",
       "      <th>1</th>\n",
       "      <td>A1</td>\n",
       "      <td>2004-01-03</td>\n",
       "      <td>245899.02</td>\n",
       "    </tr>\n",
       "    <tr>\n",
       "      <th>2</th>\n",
       "      <td>A1</td>\n",
       "      <td>2004-01-15</td>\n",
       "      <td>259490.06</td>\n",
       "    </tr>\n",
       "    <tr>\n",
       "      <th>3</th>\n",
       "      <td>A1</td>\n",
       "      <td>2004-01-25</td>\n",
       "      <td>437555.12</td>\n",
       "    </tr>\n",
       "    <tr>\n",
       "      <th>4</th>\n",
       "      <td>A1</td>\n",
       "      <td>2005-01-17</td>\n",
       "      <td>165972.88</td>\n",
       "    </tr>\n",
       "  </tbody>\n",
       "</table>\n",
       "</div>"
      ],
      "text/plain": [
       "  Customer      Month     Amount\n",
       "0       A1 2004-01-12  495414.75\n",
       "1       A1 2004-01-03  245899.02\n",
       "2       A1 2004-01-15  259490.06\n",
       "3       A1 2004-01-25  437555.12\n",
       "4       A1 2005-01-17  165972.88"
      ]
     },
     "execution_count": 9,
     "metadata": {},
     "output_type": "execute_result"
    }
   ],
   "source": [
    "# Drop the column \"SL No:\" and \"Unnamed: 4\" from repayment data\n",
    "\n",
    "repayment.drop(['SL No:', 'Unnamed: 4'], axis = 1, inplace = True)\n",
    "repayment['Month'] = pd.to_datetime(repayment['Month'], format = '%d-%b-%y')\n",
    "repayment.head()"
   ]
  },
  {
   "cell_type": "code",
   "execution_count": 10,
   "id": "d4d006db",
   "metadata": {},
   "outputs": [
    {
     "data": {
      "text/plain": [
       "Customer    0\n",
       "Age         0\n",
       "City        0\n",
       "Product     0\n",
       "Limit       0\n",
       "Company     0\n",
       "Segment     0\n",
       "dtype: int64"
      ]
     },
     "execution_count": 10,
     "metadata": {},
     "output_type": "execute_result"
    }
   ],
   "source": [
    "customer.isnull().sum()"
   ]
  },
  {
   "cell_type": "code",
   "execution_count": 11,
   "id": "1dc63c4d",
   "metadata": {},
   "outputs": [
    {
     "data": {
      "text/plain": [
       "Customer    0\n",
       "Month       0\n",
       "Type        0\n",
       "Amount      0\n",
       "dtype: int64"
      ]
     },
     "execution_count": 11,
     "metadata": {},
     "output_type": "execute_result"
    }
   ],
   "source": [
    "spend.isnull().sum()"
   ]
  },
  {
   "cell_type": "code",
   "execution_count": 12,
   "id": "647e151c",
   "metadata": {},
   "outputs": [
    {
     "data": {
      "text/plain": [
       "Customer    23\n",
       "Month       23\n",
       "Amount      23\n",
       "dtype: int64"
      ]
     },
     "execution_count": 12,
     "metadata": {},
     "output_type": "execute_result"
    }
   ],
   "source": [
    "repayment.isnull().sum()"
   ]
  },
  {
   "cell_type": "markdown",
   "id": "da14dbac",
   "metadata": {},
   "source": [
    "### 1. In the above dataset,\n",
    "\n",
    "###  (a) In case age is less than 18, replace it with mean of age values."
   ]
  },
  {
   "cell_type": "code",
   "execution_count": 13,
   "id": "c1d2d9a2",
   "metadata": {},
   "outputs": [],
   "source": [
    "customer.loc[customer['Age'] < 18, 'Age'] = customer['Age'].mean()"
   ]
  },
  {
   "cell_type": "markdown",
   "id": "55ab6295",
   "metadata": {},
   "source": [
    "### (b) In case spend amount is more than the limit, replace it with 50% of that customer’s limit. (customer’s limit provided in acquisition table is the per transaction limit on his card)"
   ]
  },
  {
   "cell_type": "code",
   "execution_count": 14,
   "id": "0417134f",
   "metadata": {},
   "outputs": [],
   "source": [
    "cust_spend = pd.merge(left = customer, right = spend, on = 'Customer', how = 'left')"
   ]
  },
  {
   "cell_type": "code",
   "execution_count": 15,
   "id": "28d021e4",
   "metadata": {},
   "outputs": [],
   "source": [
    "cust_spend.loc[cust_spend['Amount'] > cust_spend['Limit'], 'Amount'] = cust_spend['Limit']/2"
   ]
  },
  {
   "cell_type": "code",
   "execution_count": 16,
   "id": "e18dac36",
   "metadata": {},
   "outputs": [
    {
     "data": {
      "text/html": [
       "<div>\n",
       "<style scoped>\n",
       "    .dataframe tbody tr th:only-of-type {\n",
       "        vertical-align: middle;\n",
       "    }\n",
       "\n",
       "    .dataframe tbody tr th {\n",
       "        vertical-align: top;\n",
       "    }\n",
       "\n",
       "    .dataframe thead th {\n",
       "        text-align: right;\n",
       "    }\n",
       "</style>\n",
       "<table border=\"1\" class=\"dataframe\">\n",
       "  <thead>\n",
       "    <tr style=\"text-align: right;\">\n",
       "      <th></th>\n",
       "      <th>Customer</th>\n",
       "      <th>Age</th>\n",
       "      <th>City</th>\n",
       "      <th>Product</th>\n",
       "      <th>Limit</th>\n",
       "      <th>Company</th>\n",
       "      <th>Segment</th>\n",
       "      <th>Month</th>\n",
       "      <th>Type</th>\n",
       "      <th>Amount</th>\n",
       "    </tr>\n",
       "  </thead>\n",
       "  <tbody>\n",
       "    <tr>\n",
       "      <th>0</th>\n",
       "      <td>A1</td>\n",
       "      <td>76.0</td>\n",
       "      <td>BANGALORE</td>\n",
       "      <td>Gold</td>\n",
       "      <td>500000.0</td>\n",
       "      <td>C1</td>\n",
       "      <td>Self Employed</td>\n",
       "      <td>2004-01-12</td>\n",
       "      <td>JEWELLERY</td>\n",
       "      <td>485470.80</td>\n",
       "    </tr>\n",
       "    <tr>\n",
       "      <th>1</th>\n",
       "      <td>A1</td>\n",
       "      <td>76.0</td>\n",
       "      <td>BANGALORE</td>\n",
       "      <td>Gold</td>\n",
       "      <td>500000.0</td>\n",
       "      <td>C1</td>\n",
       "      <td>Self Employed</td>\n",
       "      <td>2004-01-03</td>\n",
       "      <td>PETRO</td>\n",
       "      <td>410556.13</td>\n",
       "    </tr>\n",
       "    <tr>\n",
       "      <th>2</th>\n",
       "      <td>A1</td>\n",
       "      <td>76.0</td>\n",
       "      <td>BANGALORE</td>\n",
       "      <td>Gold</td>\n",
       "      <td>500000.0</td>\n",
       "      <td>C1</td>\n",
       "      <td>Self Employed</td>\n",
       "      <td>2004-01-15</td>\n",
       "      <td>CLOTHES</td>\n",
       "      <td>23740.46</td>\n",
       "    </tr>\n",
       "    <tr>\n",
       "      <th>3</th>\n",
       "      <td>A1</td>\n",
       "      <td>76.0</td>\n",
       "      <td>BANGALORE</td>\n",
       "      <td>Gold</td>\n",
       "      <td>500000.0</td>\n",
       "      <td>C1</td>\n",
       "      <td>Self Employed</td>\n",
       "      <td>2004-01-25</td>\n",
       "      <td>FOOD</td>\n",
       "      <td>484342.47</td>\n",
       "    </tr>\n",
       "    <tr>\n",
       "      <th>4</th>\n",
       "      <td>A1</td>\n",
       "      <td>76.0</td>\n",
       "      <td>BANGALORE</td>\n",
       "      <td>Gold</td>\n",
       "      <td>500000.0</td>\n",
       "      <td>C1</td>\n",
       "      <td>Self Employed</td>\n",
       "      <td>2005-01-17</td>\n",
       "      <td>CAMERA</td>\n",
       "      <td>369694.07</td>\n",
       "    </tr>\n",
       "    <tr>\n",
       "      <th>...</th>\n",
       "      <td>...</td>\n",
       "      <td>...</td>\n",
       "      <td>...</td>\n",
       "      <td>...</td>\n",
       "      <td>...</td>\n",
       "      <td>...</td>\n",
       "      <td>...</td>\n",
       "      <td>...</td>\n",
       "      <td>...</td>\n",
       "      <td>...</td>\n",
       "    </tr>\n",
       "    <tr>\n",
       "      <th>1495</th>\n",
       "      <td>A96</td>\n",
       "      <td>54.0</td>\n",
       "      <td>CHENNAI</td>\n",
       "      <td>Silver</td>\n",
       "      <td>100000.0</td>\n",
       "      <td>C19</td>\n",
       "      <td>Salaried_Pvt</td>\n",
       "      <td>2004-01-25</td>\n",
       "      <td>BIKE</td>\n",
       "      <td>54729.66</td>\n",
       "    </tr>\n",
       "    <tr>\n",
       "      <th>1496</th>\n",
       "      <td>A97</td>\n",
       "      <td>58.0</td>\n",
       "      <td>TRIVANDRUM</td>\n",
       "      <td>Platimum</td>\n",
       "      <td>10000.0</td>\n",
       "      <td>C20</td>\n",
       "      <td>Govt</td>\n",
       "      <td>2004-01-12</td>\n",
       "      <td>AUTO</td>\n",
       "      <td>5000.00</td>\n",
       "    </tr>\n",
       "    <tr>\n",
       "      <th>1497</th>\n",
       "      <td>A98</td>\n",
       "      <td>51.0</td>\n",
       "      <td>CALCUTTA</td>\n",
       "      <td>Platimum</td>\n",
       "      <td>10001.0</td>\n",
       "      <td>C21</td>\n",
       "      <td>Normal Salary</td>\n",
       "      <td>2004-01-03</td>\n",
       "      <td>SHOPPING</td>\n",
       "      <td>5000.50</td>\n",
       "    </tr>\n",
       "    <tr>\n",
       "      <th>1498</th>\n",
       "      <td>A99</td>\n",
       "      <td>35.0</td>\n",
       "      <td>CALCUTTA</td>\n",
       "      <td>Platimum</td>\n",
       "      <td>10002.0</td>\n",
       "      <td>C22</td>\n",
       "      <td>Self Employed</td>\n",
       "      <td>2004-01-15</td>\n",
       "      <td>AIR TICKET</td>\n",
       "      <td>5001.00</td>\n",
       "    </tr>\n",
       "    <tr>\n",
       "      <th>1499</th>\n",
       "      <td>A100</td>\n",
       "      <td>36.0</td>\n",
       "      <td>COCHIN</td>\n",
       "      <td>Silver</td>\n",
       "      <td>100000.0</td>\n",
       "      <td>C5</td>\n",
       "      <td>Salaried_MNC</td>\n",
       "      <td>2004-01-25</td>\n",
       "      <td>BUS TICKET</td>\n",
       "      <td>50000.00</td>\n",
       "    </tr>\n",
       "  </tbody>\n",
       "</table>\n",
       "<p>1500 rows × 10 columns</p>\n",
       "</div>"
      ],
      "text/plain": [
       "     Customer   Age        City   Product     Limit Company        Segment  \\\n",
       "0          A1  76.0   BANGALORE      Gold  500000.0      C1  Self Employed   \n",
       "1          A1  76.0   BANGALORE      Gold  500000.0      C1  Self Employed   \n",
       "2          A1  76.0   BANGALORE      Gold  500000.0      C1  Self Employed   \n",
       "3          A1  76.0   BANGALORE      Gold  500000.0      C1  Self Employed   \n",
       "4          A1  76.0   BANGALORE      Gold  500000.0      C1  Self Employed   \n",
       "...       ...   ...         ...       ...       ...     ...            ...   \n",
       "1495      A96  54.0     CHENNAI    Silver  100000.0     C19   Salaried_Pvt   \n",
       "1496      A97  58.0  TRIVANDRUM  Platimum   10000.0     C20           Govt   \n",
       "1497      A98  51.0    CALCUTTA  Platimum   10001.0     C21  Normal Salary   \n",
       "1498      A99  35.0    CALCUTTA  Platimum   10002.0     C22  Self Employed   \n",
       "1499     A100  36.0      COCHIN    Silver  100000.0      C5   Salaried_MNC   \n",
       "\n",
       "          Month        Type     Amount  \n",
       "0    2004-01-12   JEWELLERY  485470.80  \n",
       "1    2004-01-03       PETRO  410556.13  \n",
       "2    2004-01-15     CLOTHES   23740.46  \n",
       "3    2004-01-25        FOOD  484342.47  \n",
       "4    2005-01-17      CAMERA  369694.07  \n",
       "...         ...         ...        ...  \n",
       "1495 2004-01-25        BIKE   54729.66  \n",
       "1496 2004-01-12        AUTO    5000.00  \n",
       "1497 2004-01-03    SHOPPING    5000.50  \n",
       "1498 2004-01-15  AIR TICKET    5001.00  \n",
       "1499 2004-01-25  BUS TICKET   50000.00  \n",
       "\n",
       "[1500 rows x 10 columns]"
      ]
     },
     "execution_count": 16,
     "metadata": {},
     "output_type": "execute_result"
    }
   ],
   "source": [
    "cust_spend"
   ]
  },
  {
   "cell_type": "markdown",
   "id": "54893280",
   "metadata": {},
   "source": [
    "### (c) Incase the repayment amount is more than the limit, replace the repayment with the limit."
   ]
  },
  {
   "cell_type": "code",
   "execution_count": 17,
   "id": "e1681f8f",
   "metadata": {},
   "outputs": [],
   "source": [
    "cust_repay = pd.merge(left = customer, right = repayment, on = 'Customer', how = 'left')"
   ]
  },
  {
   "cell_type": "code",
   "execution_count": 18,
   "id": "8f45cb3b",
   "metadata": {},
   "outputs": [],
   "source": [
    "cust_repay.loc[cust_repay['Amount'] > cust_repay['Limit'], 'Amount'] = cust_repay['Limit']"
   ]
  },
  {
   "cell_type": "code",
   "execution_count": 19,
   "id": "0c3b8aed",
   "metadata": {},
   "outputs": [
    {
     "data": {
      "text/html": [
       "<div>\n",
       "<style scoped>\n",
       "    .dataframe tbody tr th:only-of-type {\n",
       "        vertical-align: middle;\n",
       "    }\n",
       "\n",
       "    .dataframe tbody tr th {\n",
       "        vertical-align: top;\n",
       "    }\n",
       "\n",
       "    .dataframe thead th {\n",
       "        text-align: right;\n",
       "    }\n",
       "</style>\n",
       "<table border=\"1\" class=\"dataframe\">\n",
       "  <thead>\n",
       "    <tr style=\"text-align: right;\">\n",
       "      <th></th>\n",
       "      <th>Customer</th>\n",
       "      <th>Age</th>\n",
       "      <th>City</th>\n",
       "      <th>Product</th>\n",
       "      <th>Limit</th>\n",
       "      <th>Company</th>\n",
       "      <th>Segment</th>\n",
       "      <th>Month</th>\n",
       "      <th>Amount</th>\n",
       "    </tr>\n",
       "  </thead>\n",
       "  <tbody>\n",
       "    <tr>\n",
       "      <th>0</th>\n",
       "      <td>A1</td>\n",
       "      <td>76.0</td>\n",
       "      <td>BANGALORE</td>\n",
       "      <td>Gold</td>\n",
       "      <td>500000.0</td>\n",
       "      <td>C1</td>\n",
       "      <td>Self Employed</td>\n",
       "      <td>2004-01-12</td>\n",
       "      <td>495414.75</td>\n",
       "    </tr>\n",
       "    <tr>\n",
       "      <th>1</th>\n",
       "      <td>A1</td>\n",
       "      <td>76.0</td>\n",
       "      <td>BANGALORE</td>\n",
       "      <td>Gold</td>\n",
       "      <td>500000.0</td>\n",
       "      <td>C1</td>\n",
       "      <td>Self Employed</td>\n",
       "      <td>2004-01-03</td>\n",
       "      <td>245899.02</td>\n",
       "    </tr>\n",
       "    <tr>\n",
       "      <th>2</th>\n",
       "      <td>A1</td>\n",
       "      <td>76.0</td>\n",
       "      <td>BANGALORE</td>\n",
       "      <td>Gold</td>\n",
       "      <td>500000.0</td>\n",
       "      <td>C1</td>\n",
       "      <td>Self Employed</td>\n",
       "      <td>2004-01-15</td>\n",
       "      <td>259490.06</td>\n",
       "    </tr>\n",
       "    <tr>\n",
       "      <th>3</th>\n",
       "      <td>A1</td>\n",
       "      <td>76.0</td>\n",
       "      <td>BANGALORE</td>\n",
       "      <td>Gold</td>\n",
       "      <td>500000.0</td>\n",
       "      <td>C1</td>\n",
       "      <td>Self Employed</td>\n",
       "      <td>2004-01-25</td>\n",
       "      <td>437555.12</td>\n",
       "    </tr>\n",
       "    <tr>\n",
       "      <th>4</th>\n",
       "      <td>A1</td>\n",
       "      <td>76.0</td>\n",
       "      <td>BANGALORE</td>\n",
       "      <td>Gold</td>\n",
       "      <td>500000.0</td>\n",
       "      <td>C1</td>\n",
       "      <td>Self Employed</td>\n",
       "      <td>2005-01-17</td>\n",
       "      <td>165972.88</td>\n",
       "    </tr>\n",
       "    <tr>\n",
       "      <th>...</th>\n",
       "      <td>...</td>\n",
       "      <td>...</td>\n",
       "      <td>...</td>\n",
       "      <td>...</td>\n",
       "      <td>...</td>\n",
       "      <td>...</td>\n",
       "      <td>...</td>\n",
       "      <td>...</td>\n",
       "      <td>...</td>\n",
       "    </tr>\n",
       "    <tr>\n",
       "      <th>1495</th>\n",
       "      <td>A96</td>\n",
       "      <td>54.0</td>\n",
       "      <td>CHENNAI</td>\n",
       "      <td>Silver</td>\n",
       "      <td>100000.0</td>\n",
       "      <td>C19</td>\n",
       "      <td>Salaried_Pvt</td>\n",
       "      <td>2004-01-25</td>\n",
       "      <td>100000.00</td>\n",
       "    </tr>\n",
       "    <tr>\n",
       "      <th>1496</th>\n",
       "      <td>A97</td>\n",
       "      <td>58.0</td>\n",
       "      <td>TRIVANDRUM</td>\n",
       "      <td>Platimum</td>\n",
       "      <td>10000.0</td>\n",
       "      <td>C20</td>\n",
       "      <td>Govt</td>\n",
       "      <td>2004-01-12</td>\n",
       "      <td>10000.00</td>\n",
       "    </tr>\n",
       "    <tr>\n",
       "      <th>1497</th>\n",
       "      <td>A98</td>\n",
       "      <td>51.0</td>\n",
       "      <td>CALCUTTA</td>\n",
       "      <td>Platimum</td>\n",
       "      <td>10001.0</td>\n",
       "      <td>C21</td>\n",
       "      <td>Normal Salary</td>\n",
       "      <td>2004-01-03</td>\n",
       "      <td>10001.00</td>\n",
       "    </tr>\n",
       "    <tr>\n",
       "      <th>1498</th>\n",
       "      <td>A99</td>\n",
       "      <td>35.0</td>\n",
       "      <td>CALCUTTA</td>\n",
       "      <td>Platimum</td>\n",
       "      <td>10002.0</td>\n",
       "      <td>C22</td>\n",
       "      <td>Self Employed</td>\n",
       "      <td>2004-01-15</td>\n",
       "      <td>10002.00</td>\n",
       "    </tr>\n",
       "    <tr>\n",
       "      <th>1499</th>\n",
       "      <td>A100</td>\n",
       "      <td>36.0</td>\n",
       "      <td>COCHIN</td>\n",
       "      <td>Silver</td>\n",
       "      <td>100000.0</td>\n",
       "      <td>C5</td>\n",
       "      <td>Salaried_MNC</td>\n",
       "      <td>2004-01-25</td>\n",
       "      <td>69551.19</td>\n",
       "    </tr>\n",
       "  </tbody>\n",
       "</table>\n",
       "<p>1500 rows × 9 columns</p>\n",
       "</div>"
      ],
      "text/plain": [
       "     Customer   Age        City   Product     Limit Company        Segment  \\\n",
       "0          A1  76.0   BANGALORE      Gold  500000.0      C1  Self Employed   \n",
       "1          A1  76.0   BANGALORE      Gold  500000.0      C1  Self Employed   \n",
       "2          A1  76.0   BANGALORE      Gold  500000.0      C1  Self Employed   \n",
       "3          A1  76.0   BANGALORE      Gold  500000.0      C1  Self Employed   \n",
       "4          A1  76.0   BANGALORE      Gold  500000.0      C1  Self Employed   \n",
       "...       ...   ...         ...       ...       ...     ...            ...   \n",
       "1495      A96  54.0     CHENNAI    Silver  100000.0     C19   Salaried_Pvt   \n",
       "1496      A97  58.0  TRIVANDRUM  Platimum   10000.0     C20           Govt   \n",
       "1497      A98  51.0    CALCUTTA  Platimum   10001.0     C21  Normal Salary   \n",
       "1498      A99  35.0    CALCUTTA  Platimum   10002.0     C22  Self Employed   \n",
       "1499     A100  36.0      COCHIN    Silver  100000.0      C5   Salaried_MNC   \n",
       "\n",
       "          Month     Amount  \n",
       "0    2004-01-12  495414.75  \n",
       "1    2004-01-03  245899.02  \n",
       "2    2004-01-15  259490.06  \n",
       "3    2004-01-25  437555.12  \n",
       "4    2005-01-17  165972.88  \n",
       "...         ...        ...  \n",
       "1495 2004-01-25  100000.00  \n",
       "1496 2004-01-12   10000.00  \n",
       "1497 2004-01-03   10001.00  \n",
       "1498 2004-01-15   10002.00  \n",
       "1499 2004-01-25   69551.19  \n",
       "\n",
       "[1500 rows x 9 columns]"
      ]
     },
     "execution_count": 19,
     "metadata": {},
     "output_type": "execute_result"
    }
   ],
   "source": [
    "cust_repay"
   ]
  },
  {
   "cell_type": "markdown",
   "id": "9139f1da",
   "metadata": {},
   "source": [
    "### 2. From the above dataset create the following summaries:\n",
    "\n",
    "### (a) How many distinct customers exist?"
   ]
  },
  {
   "cell_type": "code",
   "execution_count": 20,
   "id": "74dd92f2",
   "metadata": {},
   "outputs": [
    {
     "data": {
      "text/plain": [
       "100"
      ]
     },
     "execution_count": 20,
     "metadata": {},
     "output_type": "execute_result"
    }
   ],
   "source": [
    "len(customer['Customer'].unique())"
   ]
  },
  {
   "cell_type": "markdown",
   "id": "06d40163",
   "metadata": {},
   "source": [
    "### (b) How many distinct categories exist?"
   ]
  },
  {
   "cell_type": "code",
   "execution_count": 21,
   "id": "d7224548",
   "metadata": {},
   "outputs": [
    {
     "data": {
      "text/plain": [
       "array(['Self Employed', 'Salaried_MNC', 'Salaried_Pvt', 'Govt',\n",
       "       'Normal Salary'], dtype=object)"
      ]
     },
     "execution_count": 21,
     "metadata": {},
     "output_type": "execute_result"
    }
   ],
   "source": [
    "customer['Segment'].unique()"
   ]
  },
  {
   "cell_type": "code",
   "execution_count": 22,
   "id": "36be9231",
   "metadata": {},
   "outputs": [
    {
     "data": {
      "text/plain": [
       "5"
      ]
     },
     "execution_count": 22,
     "metadata": {},
     "output_type": "execute_result"
    }
   ],
   "source": [
    "len(customer['Segment'].unique())"
   ]
  },
  {
   "cell_type": "markdown",
   "id": "cb4e028e",
   "metadata": {},
   "source": [
    "### (c) What is the average monthly spend by customers?"
   ]
  },
  {
   "cell_type": "code",
   "execution_count": 23,
   "id": "9727fabb",
   "metadata": {},
   "outputs": [
    {
     "data": {
      "text/html": [
       "<div>\n",
       "<style scoped>\n",
       "    .dataframe tbody tr th:only-of-type {\n",
       "        vertical-align: middle;\n",
       "    }\n",
       "\n",
       "    .dataframe tbody tr th {\n",
       "        vertical-align: top;\n",
       "    }\n",
       "\n",
       "    .dataframe thead th {\n",
       "        text-align: right;\n",
       "    }\n",
       "</style>\n",
       "<table border=\"1\" class=\"dataframe\">\n",
       "  <thead>\n",
       "    <tr style=\"text-align: right;\">\n",
       "      <th></th>\n",
       "      <th>Customer</th>\n",
       "      <th>Amount</th>\n",
       "    </tr>\n",
       "  </thead>\n",
       "  <tbody>\n",
       "    <tr>\n",
       "      <th>0</th>\n",
       "      <td>A1</td>\n",
       "      <td>285705.71</td>\n",
       "    </tr>\n",
       "    <tr>\n",
       "      <th>1</th>\n",
       "      <td>A10</td>\n",
       "      <td>213745.81</td>\n",
       "    </tr>\n",
       "    <tr>\n",
       "      <th>2</th>\n",
       "      <td>A100</td>\n",
       "      <td>224786.88</td>\n",
       "    </tr>\n",
       "    <tr>\n",
       "      <th>3</th>\n",
       "      <td>A11</td>\n",
       "      <td>250957.09</td>\n",
       "    </tr>\n",
       "    <tr>\n",
       "      <th>4</th>\n",
       "      <td>A12</td>\n",
       "      <td>263969.38</td>\n",
       "    </tr>\n",
       "    <tr>\n",
       "      <th>...</th>\n",
       "      <td>...</td>\n",
       "      <td>...</td>\n",
       "    </tr>\n",
       "    <tr>\n",
       "      <th>95</th>\n",
       "      <td>A95</td>\n",
       "      <td>240401.50</td>\n",
       "    </tr>\n",
       "    <tr>\n",
       "      <th>96</th>\n",
       "      <td>A96</td>\n",
       "      <td>54729.66</td>\n",
       "    </tr>\n",
       "    <tr>\n",
       "      <th>97</th>\n",
       "      <td>A97</td>\n",
       "      <td>139018.26</td>\n",
       "    </tr>\n",
       "    <tr>\n",
       "      <th>98</th>\n",
       "      <td>A98</td>\n",
       "      <td>284521.06</td>\n",
       "    </tr>\n",
       "    <tr>\n",
       "      <th>99</th>\n",
       "      <td>A99</td>\n",
       "      <td>90184.22</td>\n",
       "    </tr>\n",
       "  </tbody>\n",
       "</table>\n",
       "<p>100 rows × 2 columns</p>\n",
       "</div>"
      ],
      "text/plain": [
       "   Customer     Amount\n",
       "0        A1  285705.71\n",
       "1       A10  213745.81\n",
       "2      A100  224786.88\n",
       "3       A11  250957.09\n",
       "4       A12  263969.38\n",
       "..      ...        ...\n",
       "95      A95  240401.50\n",
       "96      A96   54729.66\n",
       "97      A97  139018.26\n",
       "98      A98  284521.06\n",
       "99      A99   90184.22\n",
       "\n",
       "[100 rows x 2 columns]"
      ]
     },
     "execution_count": 23,
     "metadata": {},
     "output_type": "execute_result"
    }
   ],
   "source": [
    "spend.groupby('Customer')['Amount'].mean().round(2).reset_index()"
   ]
  },
  {
   "cell_type": "markdown",
   "id": "6ab50e8f",
   "metadata": {},
   "source": [
    "### (d) What is the average monthly repayment by customers?"
   ]
  },
  {
   "cell_type": "code",
   "execution_count": 24,
   "id": "ac7924fb",
   "metadata": {},
   "outputs": [
    {
     "data": {
      "text/html": [
       "<div>\n",
       "<style scoped>\n",
       "    .dataframe tbody tr th:only-of-type {\n",
       "        vertical-align: middle;\n",
       "    }\n",
       "\n",
       "    .dataframe tbody tr th {\n",
       "        vertical-align: top;\n",
       "    }\n",
       "\n",
       "    .dataframe thead th {\n",
       "        text-align: right;\n",
       "    }\n",
       "</style>\n",
       "<table border=\"1\" class=\"dataframe\">\n",
       "  <thead>\n",
       "    <tr style=\"text-align: right;\">\n",
       "      <th></th>\n",
       "      <th>Customer</th>\n",
       "      <th>Amount</th>\n",
       "    </tr>\n",
       "  </thead>\n",
       "  <tbody>\n",
       "    <tr>\n",
       "      <th>0</th>\n",
       "      <td>A1</td>\n",
       "      <td>264093.98</td>\n",
       "    </tr>\n",
       "    <tr>\n",
       "      <th>1</th>\n",
       "      <td>A10</td>\n",
       "      <td>205313.75</td>\n",
       "    </tr>\n",
       "    <tr>\n",
       "      <th>2</th>\n",
       "      <td>A100</td>\n",
       "      <td>69551.19</td>\n",
       "    </tr>\n",
       "    <tr>\n",
       "      <th>3</th>\n",
       "      <td>A11</td>\n",
       "      <td>295051.89</td>\n",
       "    </tr>\n",
       "    <tr>\n",
       "      <th>4</th>\n",
       "      <td>A12</td>\n",
       "      <td>268863.23</td>\n",
       "    </tr>\n",
       "    <tr>\n",
       "      <th>...</th>\n",
       "      <td>...</td>\n",
       "      <td>...</td>\n",
       "    </tr>\n",
       "    <tr>\n",
       "      <th>95</th>\n",
       "      <td>A95</td>\n",
       "      <td>369405.96</td>\n",
       "    </tr>\n",
       "    <tr>\n",
       "      <th>96</th>\n",
       "      <td>A96</td>\n",
       "      <td>310992.30</td>\n",
       "    </tr>\n",
       "    <tr>\n",
       "      <th>97</th>\n",
       "      <td>A97</td>\n",
       "      <td>121874.90</td>\n",
       "    </tr>\n",
       "    <tr>\n",
       "      <th>98</th>\n",
       "      <td>A98</td>\n",
       "      <td>337815.57</td>\n",
       "    </tr>\n",
       "    <tr>\n",
       "      <th>99</th>\n",
       "      <td>A99</td>\n",
       "      <td>25682.73</td>\n",
       "    </tr>\n",
       "  </tbody>\n",
       "</table>\n",
       "<p>100 rows × 2 columns</p>\n",
       "</div>"
      ],
      "text/plain": [
       "   Customer     Amount\n",
       "0        A1  264093.98\n",
       "1       A10  205313.75\n",
       "2      A100   69551.19\n",
       "3       A11  295051.89\n",
       "4       A12  268863.23\n",
       "..      ...        ...\n",
       "95      A95  369405.96\n",
       "96      A96  310992.30\n",
       "97      A97  121874.90\n",
       "98      A98  337815.57\n",
       "99      A99   25682.73\n",
       "\n",
       "[100 rows x 2 columns]"
      ]
     },
     "execution_count": 24,
     "metadata": {},
     "output_type": "execute_result"
    }
   ],
   "source": [
    "repayment.groupby('Customer')['Amount'].mean().round(2).reset_index()"
   ]
  },
  {
   "cell_type": "markdown",
   "id": "3d99d8b4",
   "metadata": {},
   "source": [
    "### (e) If the monthly rate of interest is 2.9%, what is the profit for the bank for each month? (Profit is defined as interest earned on Monthly Profit. Monthly Profit = Monthly repayment – Monthly spend. Interest is earned only on positive profits and not on negative amounts)"
   ]
  },
  {
   "cell_type": "code",
   "execution_count": 156,
   "id": "25a9b87e",
   "metadata": {},
   "outputs": [
    {
     "data": {
      "text/html": [
       "<div>\n",
       "<style scoped>\n",
       "    .dataframe tbody tr th:only-of-type {\n",
       "        vertical-align: middle;\n",
       "    }\n",
       "\n",
       "    .dataframe tbody tr th {\n",
       "        vertical-align: top;\n",
       "    }\n",
       "\n",
       "    .dataframe thead th {\n",
       "        text-align: right;\n",
       "    }\n",
       "</style>\n",
       "<table border=\"1\" class=\"dataframe\">\n",
       "  <thead>\n",
       "    <tr style=\"text-align: right;\">\n",
       "      <th></th>\n",
       "      <th>Month_spend</th>\n",
       "      <th>Amount_spend</th>\n",
       "      <th>Month_repay</th>\n",
       "      <th>Amount_repay</th>\n",
       "      <th>Monthly_Profit</th>\n",
       "      <th>Profit</th>\n",
       "    </tr>\n",
       "  </thead>\n",
       "  <tbody>\n",
       "    <tr>\n",
       "      <th>0</th>\n",
       "      <td>2004-01</td>\n",
       "      <td>77275605.08</td>\n",
       "      <td>2004-01</td>\n",
       "      <td>68177101.94</td>\n",
       "      <td>-9098503.14</td>\n",
       "      <td>0.00000</td>\n",
       "    </tr>\n",
       "    <tr>\n",
       "      <th>1</th>\n",
       "      <td>2004-02</td>\n",
       "      <td>6194027.56</td>\n",
       "      <td>2004-02</td>\n",
       "      <td>6930971.03</td>\n",
       "      <td>736943.47</td>\n",
       "      <td>21371.36063</td>\n",
       "    </tr>\n",
       "    <tr>\n",
       "      <th>2</th>\n",
       "      <td>2004-03</td>\n",
       "      <td>3250045.67</td>\n",
       "      <td>2004-03</td>\n",
       "      <td>3788779.21</td>\n",
       "      <td>538733.54</td>\n",
       "      <td>15623.27266</td>\n",
       "    </tr>\n",
       "    <tr>\n",
       "      <th>3</th>\n",
       "      <td>2004-04</td>\n",
       "      <td>6587617.04</td>\n",
       "      <td>2004-04</td>\n",
       "      <td>7774250.37</td>\n",
       "      <td>1186633.33</td>\n",
       "      <td>34412.36657</td>\n",
       "    </tr>\n",
       "    <tr>\n",
       "      <th>4</th>\n",
       "      <td>2004-05</td>\n",
       "      <td>3045549.31</td>\n",
       "      <td>2004-05</td>\n",
       "      <td>5654068.02</td>\n",
       "      <td>2608518.71</td>\n",
       "      <td>75647.04259</td>\n",
       "    </tr>\n",
       "  </tbody>\n",
       "</table>\n",
       "</div>"
      ],
      "text/plain": [
       "  Month_spend  Amount_spend Month_repay  Amount_repay  Monthly_Profit  \\\n",
       "0     2004-01   77275605.08     2004-01   68177101.94     -9098503.14   \n",
       "1     2004-02    6194027.56     2004-02    6930971.03       736943.47   \n",
       "2     2004-03    3250045.67     2004-03    3788779.21       538733.54   \n",
       "3     2004-04    6587617.04     2004-04    7774250.37      1186633.33   \n",
       "4     2004-05    3045549.31     2004-05    5654068.02      2608518.71   \n",
       "\n",
       "        Profit  \n",
       "0      0.00000  \n",
       "1  21371.36063  \n",
       "2  15623.27266  \n",
       "3  34412.36657  \n",
       "4  75647.04259  "
      ]
     },
     "execution_count": 156,
     "metadata": {},
     "output_type": "execute_result"
    }
   ],
   "source": [
    "spend1 = spend.copy()\n",
    "repay1 = repayment.copy()\n",
    "spend1['Month'] = spend1['Month'].dt.strftime('%Y-%m')\n",
    "spend1_ = spend1.groupby('Month')['Amount'].sum().reset_index()\n",
    "repay1['Month'] = repay1['Month'].dt.strftime('%Y-%m')\n",
    "repay1_ = repay1.groupby('Month')['Amount'].sum().reset_index()\n",
    "spend_repay = spend1_.join(repay1_, how=\"outer\", lsuffix=\"_spend\", rsuffix=\"_repay\")\n",
    "spend_repay['Monthly_Profit'] = spend_repay['Amount_repay'] - spend_repay['Amount_spend']\n",
    "spend_repay['Profit'] = np.where(spend_repay['Monthly_Profit'] > 0, spend_repay['Monthly_Profit'] *2.9/100, 0)\n",
    "\n",
    "spend_repay.head()"
   ]
  },
  {
   "cell_type": "markdown",
   "id": "0bf099f8",
   "metadata": {},
   "source": [
    "### (f) What are the top 5 product types?"
   ]
  },
  {
   "cell_type": "code",
   "execution_count": 164,
   "id": "ac49e6dc",
   "metadata": {},
   "outputs": [
    {
     "data": {
      "text/plain": [
       "Type\n",
       "PETRO           49863174.09\n",
       "CAMERA          41481571.96\n",
       "FOOD            37773338.43\n",
       "TRAIN TICKET    33067077.15\n",
       "AIR TICKET      32955445.42\n",
       "Name: Amount, dtype: float64"
      ]
     },
     "execution_count": 164,
     "metadata": {},
     "output_type": "execute_result"
    }
   ],
   "source": [
    "spend.groupby('Type')['Amount'].sum().sort_values(ascending = False).head(5)"
   ]
  },
  {
   "cell_type": "markdown",
   "id": "2af88345",
   "metadata": {},
   "source": [
    "### (g) Which city is having maximum spend?"
   ]
  },
  {
   "cell_type": "code",
   "execution_count": 168,
   "id": "d89ef53f",
   "metadata": {},
   "outputs": [
    {
     "data": {
      "text/plain": [
       "City\n",
       "COCHIN    45963513.5\n",
       "Name: Amount, dtype: float64"
      ]
     },
     "execution_count": 168,
     "metadata": {},
     "output_type": "execute_result"
    }
   ],
   "source": [
    "cust_spend.groupby('City')['Amount'].sum().sort_values(ascending = False).head(1)"
   ]
  },
  {
   "cell_type": "markdown",
   "id": "50831cd7",
   "metadata": {},
   "source": [
    "### (h) Which age group is spending more money?"
   ]
  },
  {
   "cell_type": "code",
   "execution_count": 203,
   "id": "27112139",
   "metadata": {},
   "outputs": [],
   "source": [
    "cust_spend['Age_bins'] = pd.cut(x = cust_spend['Age'], bins = [18, 24, 34, 44, 54, 64, 74, 84]) "
   ]
  },
  {
   "cell_type": "code",
   "execution_count": 207,
   "id": "eb7bd9f5",
   "metadata": {},
   "outputs": [
    {
     "data": {
      "text/plain": [
       "Age_bins\n",
       "(44, 54]    60126998.32\n",
       "Name: Amount, dtype: float64"
      ]
     },
     "execution_count": 207,
     "metadata": {},
     "output_type": "execute_result"
    }
   ],
   "source": [
    "cust_spend.groupby('Age_bins')['Amount'].sum().sort_values(ascending = False).head(1)"
   ]
  },
  {
   "cell_type": "markdown",
   "id": "e166a623",
   "metadata": {},
   "source": [
    "### (i) Who are the top 10 customers in terms of repayment?"
   ]
  },
  {
   "cell_type": "code",
   "execution_count": 172,
   "id": "8877e11b",
   "metadata": {},
   "outputs": [
    {
     "data": {
      "text/plain": [
       "Customer\n",
       "A61    10539142.91\n",
       "A60     9876290.74\n",
       "A13     9572000.66\n",
       "A43     8489871.46\n",
       "A45     8448334.87\n",
       "A12     8334760.16\n",
       "A14     7943268.63\n",
       "A44     7744730.12\n",
       "A39     7622483.30\n",
       "A42     7615460.86\n",
       "Name: Amount, dtype: float64"
      ]
     },
     "execution_count": 172,
     "metadata": {},
     "output_type": "execute_result"
    }
   ],
   "source": [
    "cust_repay.groupby('Customer')['Amount'].sum().sort_values(ascending = False).head(10)"
   ]
  },
  {
   "cell_type": "markdown",
   "id": "4a18e6c9",
   "metadata": {},
   "source": [
    "### 3. Calculate the city wise spend on each product on yearly basis. Also include a graphical representation for the same."
   ]
  },
  {
   "cell_type": "code",
   "execution_count": 179,
   "id": "cba02fde",
   "metadata": {},
   "outputs": [],
   "source": [
    "cust_spend['Yearly'] = cust_spend['Month'].dt.strftime('%Y')"
   ]
  },
  {
   "cell_type": "code",
   "execution_count": 200,
   "id": "867e6877",
   "metadata": {},
   "outputs": [
    {
     "data": {
      "text/html": [
       "<div>\n",
       "<style scoped>\n",
       "    .dataframe tbody tr th:only-of-type {\n",
       "        vertical-align: middle;\n",
       "    }\n",
       "\n",
       "    .dataframe tbody tr th {\n",
       "        vertical-align: top;\n",
       "    }\n",
       "\n",
       "    .dataframe thead th {\n",
       "        text-align: right;\n",
       "    }\n",
       "</style>\n",
       "<table border=\"1\" class=\"dataframe\">\n",
       "  <thead>\n",
       "    <tr style=\"text-align: right;\">\n",
       "      <th></th>\n",
       "      <th>City</th>\n",
       "      <th>BANGALORE</th>\n",
       "      <th>BOMBAY</th>\n",
       "      <th>CALCUTTA</th>\n",
       "      <th>CHENNAI</th>\n",
       "      <th>COCHIN</th>\n",
       "      <th>DELHI</th>\n",
       "      <th>PATNA</th>\n",
       "      <th>TRIVANDRUM</th>\n",
       "    </tr>\n",
       "    <tr>\n",
       "      <th>Yearly</th>\n",
       "      <th>Product</th>\n",
       "      <th></th>\n",
       "      <th></th>\n",
       "      <th></th>\n",
       "      <th></th>\n",
       "      <th></th>\n",
       "      <th></th>\n",
       "      <th></th>\n",
       "      <th></th>\n",
       "    </tr>\n",
       "  </thead>\n",
       "  <tbody>\n",
       "    <tr>\n",
       "      <th rowspan=\"3\" valign=\"top\">2004</th>\n",
       "      <th>Gold</th>\n",
       "      <td>9289878.54</td>\n",
       "      <td>6987853.53</td>\n",
       "      <td>7477140.98</td>\n",
       "      <td>1059618.50</td>\n",
       "      <td>7315850.15</td>\n",
       "      <td>2806495.00</td>\n",
       "      <td>2072567.90</td>\n",
       "      <td>2415102.84</td>\n",
       "    </tr>\n",
       "    <tr>\n",
       "      <th>Platimum</th>\n",
       "      <td>1112732.30</td>\n",
       "      <td>897264.94</td>\n",
       "      <td>2037690.30</td>\n",
       "      <td>3535652.38</td>\n",
       "      <td>3419904.07</td>\n",
       "      <td>283512.89</td>\n",
       "      <td>1113069.60</td>\n",
       "      <td>2161676.67</td>\n",
       "    </tr>\n",
       "    <tr>\n",
       "      <th>Silver</th>\n",
       "      <td>1291852.58</td>\n",
       "      <td>532089.03</td>\n",
       "      <td>500006.00</td>\n",
       "      <td>282056.86</td>\n",
       "      <td>814229.62</td>\n",
       "      <td>768172.30</td>\n",
       "      <td>756684.10</td>\n",
       "      <td>209667.48</td>\n",
       "    </tr>\n",
       "    <tr>\n",
       "      <th rowspan=\"3\" valign=\"top\">2005</th>\n",
       "      <th>Gold</th>\n",
       "      <td>12892362.99</td>\n",
       "      <td>8983018.28</td>\n",
       "      <td>10303355.80</td>\n",
       "      <td>3740945.58</td>\n",
       "      <td>12110613.03</td>\n",
       "      <td>1964845.27</td>\n",
       "      <td>3252615.77</td>\n",
       "      <td>1240375.85</td>\n",
       "    </tr>\n",
       "    <tr>\n",
       "      <th>Platimum</th>\n",
       "      <td>912284.97</td>\n",
       "      <td>711804.94</td>\n",
       "      <td>4434696.31</td>\n",
       "      <td>5053956.32</td>\n",
       "      <td>4960921.71</td>\n",
       "      <td>494157.86</td>\n",
       "      <td>2883231.07</td>\n",
       "      <td>3601443.30</td>\n",
       "    </tr>\n",
       "    <tr>\n",
       "      <th>Silver</th>\n",
       "      <td>830612.34</td>\n",
       "      <td>508988.54</td>\n",
       "      <td>440147.06</td>\n",
       "      <td>377184.49</td>\n",
       "      <td>652269.38</td>\n",
       "      <td>612311.21</td>\n",
       "      <td>950094.19</td>\n",
       "      <td>269912.99</td>\n",
       "    </tr>\n",
       "    <tr>\n",
       "      <th rowspan=\"3\" valign=\"top\">2006</th>\n",
       "      <th>Gold</th>\n",
       "      <td>12030611.09</td>\n",
       "      <td>7917144.31</td>\n",
       "      <td>11167532.77</td>\n",
       "      <td>2704288.62</td>\n",
       "      <td>10499142.38</td>\n",
       "      <td>2957103.32</td>\n",
       "      <td>2276181.69</td>\n",
       "      <td>2735710.87</td>\n",
       "    </tr>\n",
       "    <tr>\n",
       "      <th>Platimum</th>\n",
       "      <td>685831.27</td>\n",
       "      <td>972130.01</td>\n",
       "      <td>3589606.66</td>\n",
       "      <td>5024923.40</td>\n",
       "      <td>4920592.29</td>\n",
       "      <td>176788.72</td>\n",
       "      <td>1256137.65</td>\n",
       "      <td>2147403.75</td>\n",
       "    </tr>\n",
       "    <tr>\n",
       "      <th>Silver</th>\n",
       "      <td>1415480.94</td>\n",
       "      <td>1092833.80</td>\n",
       "      <td>1157956.42</td>\n",
       "      <td>350009.50</td>\n",
       "      <td>1269990.87</td>\n",
       "      <td>854899.97</td>\n",
       "      <td>700005.00</td>\n",
       "      <td>555862.12</td>\n",
       "    </tr>\n",
       "  </tbody>\n",
       "</table>\n",
       "</div>"
      ],
      "text/plain": [
       "City               BANGALORE      BOMBAY     CALCUTTA     CHENNAI  \\\n",
       "Yearly Product                                                      \n",
       "2004   Gold       9289878.54  6987853.53   7477140.98  1059618.50   \n",
       "       Platimum   1112732.30   897264.94   2037690.30  3535652.38   \n",
       "       Silver     1291852.58   532089.03    500006.00   282056.86   \n",
       "2005   Gold      12892362.99  8983018.28  10303355.80  3740945.58   \n",
       "       Platimum    912284.97   711804.94   4434696.31  5053956.32   \n",
       "       Silver      830612.34   508988.54    440147.06   377184.49   \n",
       "2006   Gold      12030611.09  7917144.31  11167532.77  2704288.62   \n",
       "       Platimum    685831.27   972130.01   3589606.66  5024923.40   \n",
       "       Silver     1415480.94  1092833.80   1157956.42   350009.50   \n",
       "\n",
       "City                  COCHIN       DELHI       PATNA  TRIVANDRUM  \n",
       "Yearly Product                                                    \n",
       "2004   Gold       7315850.15  2806495.00  2072567.90  2415102.84  \n",
       "       Platimum   3419904.07   283512.89  1113069.60  2161676.67  \n",
       "       Silver      814229.62   768172.30   756684.10   209667.48  \n",
       "2005   Gold      12110613.03  1964845.27  3252615.77  1240375.85  \n",
       "       Platimum   4960921.71   494157.86  2883231.07  3601443.30  \n",
       "       Silver      652269.38   612311.21   950094.19   269912.99  \n",
       "2006   Gold      10499142.38  2957103.32  2276181.69  2735710.87  \n",
       "       Platimum   4920592.29   176788.72  1256137.65  2147403.75  \n",
       "       Silver     1269990.87   854899.97   700005.00   555862.12  "
      ]
     },
     "execution_count": 200,
     "metadata": {},
     "output_type": "execute_result"
    }
   ],
   "source": [
    "city_data = cust_spend.groupby(['City', 'Yearly', 'Product'])['Amount'].sum().unstack(level = 0)\n",
    "#city_data = cust_spend.groupby(['City', 'Yearly', 'Product'])['Amount'].sum().unstack()\n",
    "city_data"
   ]
  },
  {
   "cell_type": "code",
   "execution_count": 202,
   "id": "c0f7c137",
   "metadata": {},
   "outputs": [
    {
     "data": {
      "text/plain": [
       "<AxesSubplot:xlabel='Yearly,Product'>"
      ]
     },
     "execution_count": 202,
     "metadata": {},
     "output_type": "execute_result"
    },
    {
     "data": {
      "image/png": "[encoded data removed]",
      "text/plain": [
       "<Figure size 1080x576 with 1 Axes>"
      ]
     },
     "metadata": {
      "needs_background": "light"
     },
     "output_type": "display_data"
    }
   ],
   "source": [
    "city_data.plot(kind = 'bar', figsize = (15,8))\n",
    "#city_data.plot(kind = 'bar', figsize = (15,8), stacked = True)"
   ]
  },
  {
   "cell_type": "markdown",
   "id": "d64d5f17",
   "metadata": {},
   "source": [
    "### 4. Create graphs for\n",
    "\n",
    "### (a) Monthly comparison of total spends, city wise"
   ]
  },
  {
   "cell_type": "code",
   "execution_count": null,
   "id": "65067b71",
   "metadata": {},
   "outputs": [],
   "source": []
  },
  {
   "cell_type": "code",
   "execution_count": null,
   "id": "84857fb2",
   "metadata": {},
   "outputs": [],
   "source": []
  },
  {
   "cell_type": "code",
   "execution_count": null,
   "id": "c00d5011",
   "metadata": {},
   "outputs": [],
   "source": []
  },
  {
   "cell_type": "code",
   "execution_count": null,
   "id": "93b7599a",
   "metadata": {},
   "outputs": [],
   "source": []
  },
  {
   "cell_type": "code",
   "execution_count": null,
   "id": "0e44ffdd",
   "metadata": {},
   "outputs": [],
   "source": []
  },
  {
   "cell_type": "code",
   "execution_count": null,
   "id": "c2916331",
   "metadata": {},
   "outputs": [],
   "source": []
  },
  {
   "cell_type": "code",
   "execution_count": null,
   "id": "91da9b55",
   "metadata": {},
   "outputs": [],
   "source": []
  },
  {
   "cell_type": "code",
   "execution_count": null,
   "id": "f7b6c6c5",
   "metadata": {},
   "outputs": [],
   "source": []
  },
  {
   "cell_type": "code",
   "execution_count": null,
   "id": "ec5ceb64",
   "metadata": {},
   "outputs": [],
   "source": []
  }
 ],
 "metadata": {
  "kernelspec": {
   "display_name": "Python 3 (ipykernel)",
   "language": "python",
   "name": "python3"
  },
  "language_info": {
   "codemirror_mode": {
    "name": "ipython",
    "version": 3
   },
   "file_extension": ".py",
   "mimetype": "text/x-python",
   "name": "python",
   "nbconvert_exporter": "python",
   "pygments_lexer": "ipython3",
   "version": "3.9.12"
  }
 },
 "nbformat": 4,
 "nbformat_minor": 5
}
